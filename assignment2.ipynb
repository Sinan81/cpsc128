{
 "cells": [
  {
   "cell_type": "markdown",
   "metadata": {},
   "source": [
    "# Assignment 2\n",
    "\n",
    "This assignment is due May 24, Friday. In this assignment, you will be practicing using `if` and `while` statements. Good luck!"
   ]
  },
  {
   "cell_type": "markdown",
   "metadata": {},
   "source": [
    "## 1. Armstrong Numbers\n",
    "An Armstrong number is an $n$-digit number that is equal to the sum of its digits each raised to the nth power. For example $157=1^3+5^3+7^3$, so it is an Armstrong number. Write a program that displays all the 3-digit Armstrong numbers.\n",
    "\n",
    "Hint: you might want to use modulo operator `%` to extract digits from a given three digit number. For example, above we extracted digits 1, 5, and 7 from the given number 157 in order to be able to determine if it is an Armstrong number."
   ]
  },
  {
   "cell_type": "markdown",
   "metadata": {},
   "source": [
    "## 2. Plotting $y=x^2$ using `print()`\n",
    "\n",
    "In this question you will print $y=x^2$ on the screen, where $x$ is an integer. Please complete this question by printing *one character at a time*. Hence you will need to use two nested `while` loops and the following print trick (but no other print tricks!) which enables printing a character without moving on to the next line:"
   ]
  },
  {
   "cell_type": "code",
   "execution_count": 9,
   "metadata": {},
   "outputs": [
    {
     "name": "stdout",
     "output_type": "stream",
     "text": [
      "xyz\n",
      "a\n"
     ]
    }
   ],
   "source": [
    "print('x',end='')\n",
    "print('y',end='')\n",
    "print('z')\n",
    "print('a')"
   ]
  },
  {
   "cell_type": "markdown",
   "metadata": {},
   "source": [
    "A sample output should look like this (for x up to 3):\n",
    "```\n",
    "*\n",
    "∅∅∅*\n",
    "∅∅∅∅∅∅∅∅*\n",
    "```\n",
    "where ∅ stands for the space character `' '`."
   ]
  },
  {
   "cell_type": "markdown",
   "metadata": {},
   "source": [
    "## 3. Calculating $\\pi$ using random numbers\n",
    "\n",
    "Computers are really good at doing repetitive tasks reliably and fast. We can take advantage of this to do useful numerical calculations. In this assignment problem you will calculate $\\pi$ using random numbers. Note that although the description of the question below  is somewhat lengthy, programming part is very short and some of you might find it very simple.\n",
    "\n",
    "\n",
    "Basic idea is that we imagine a unit circle, or radius $r=1$, inside a square spanning from $x$ between $[-1,1]$ and $y$ between $[-1,1]$ as shown below.\n",
    "\n",
    "![unit circle](files/01-unit-circle_small.png)\n",
    "\n",
    "You will (i) generate M random $x$ and $y$ values between $[-1,1]$ and (ii) check if each random pair $(x,y)$ correspond to a point inside the circle via $\\sqrt{x^2+y^2}<=1$. The probability hat a random point lies within the circle as opposed to the outside is proportional to the area of the circle, $A_C$, versus that of the square, $A_S$. Denote number of random points lying inside the circle as $n$, then\n",
    "\n",
    "$\\frac{n}{M}=\\frac{A_C}{A_S}=\\frac{\\pi}{4}$\n",
    "\n",
    "Thus we can solve for $pi$:\n",
    "\n",
    "$\\pi = \\frac{4n}{M}$.\n",
    "\n",
    "In this question, you will be using the `random` module to generate random floating point numbers:"
   ]
  },
  {
   "cell_type": "code",
   "execution_count": 2,
   "metadata": {},
   "outputs": [
    {
     "data": {
      "text/plain": [
       "0.16348849685189826"
      ]
     },
     "execution_count": 2,
     "metadata": {},
     "output_type": "execute_result"
    }
   ],
   "source": [
    "import random as r\n",
    "r.random()"
   ]
  },
  {
   "cell_type": "markdown",
   "metadata": {},
   "source": [
    "**Step-A.** `r.random()` generates random numbers in the interval [0.0,1.0] including end points. Determine constants $\\alpha$ and $\\beta$ such that \n",
    "\n",
    "$\\alpha\\times\\text{r.random()}-\\beta $ \n",
    "\n",
    "generates random numbers between $-1.0$ and $1.0$ (where $\\times$ above indicates multiplication).\n",
    "\n",
    "**Step-B** Generate 1000 random $x$ and $y$ between -1 and 1, and count how many $(x,y)$ lies within the circle.\n",
    "\n",
    "**Step-C** calculate $\\pi$ using the above equation.\n",
    "\n",
    "**Step-D** Re-do above calculation for 10, 100, 10,000 and 100,000 random numbers. "
   ]
  }
 ],
 "metadata": {
  "kernelspec": {
   "display_name": "Python 3",
   "language": "python",
   "name": "python3"
  },
  "language_info": {
   "codemirror_mode": {
    "name": "ipython",
    "version": 3
   },
   "file_extension": ".py",
   "mimetype": "text/x-python",
   "name": "python",
   "nbconvert_exporter": "python",
   "pygments_lexer": "ipython3",
   "version": "3.6.7"
  }
 },
 "nbformat": 4,
 "nbformat_minor": 2
}
